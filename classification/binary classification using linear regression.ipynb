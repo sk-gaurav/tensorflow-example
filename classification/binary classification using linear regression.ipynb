{
 "cells": [
  {
   "cell_type": "code",
   "execution_count": 131,
   "metadata": {
    "collapsed": true
   },
   "outputs": [],
   "source": [
    "%matplotlib inline\n",
    "import tensorflow as tf\n",
    "import numpy as np\n",
    "import matplotlib.pyplot as plt"
   ]
  },
  {
   "cell_type": "code",
   "execution_count": 132,
   "metadata": {
    "collapsed": true
   },
   "outputs": [],
   "source": [
    "np.random.seed(23)"
   ]
  },
  {
   "cell_type": "code",
   "execution_count": 133,
   "metadata": {
    "collapsed": false
   },
   "outputs": [],
   "source": [
    "x0 = np.random.normal(10, 1, 10)\n",
    "x1 = np.random.normal(2, 1, 10)\n",
    "xs = np.append(x0, x1)\n",
    "labels = [1.] * len(x0) + [0.] * len(x1)\n",
    "#print(xs, labels)"
   ]
  },
  {
   "cell_type": "code",
   "execution_count": 134,
   "metadata": {
    "collapsed": false
   },
   "outputs": [],
   "source": [
    "tf.reset_default_graph()"
   ]
  },
  {
   "cell_type": "code",
   "execution_count": 135,
   "metadata": {
    "collapsed": true
   },
   "outputs": [],
   "source": [
    "learning_rate = 0.00005\n",
    "training_epochs = 1000\n",
    "X = tf.placeholder(tf.float32, name=\"xtrain\")\n",
    "Y = tf.placeholder(tf.float32, name=\"ytrain\")\n",
    "w = tf.Variable([0., 0.], name=\"parameters\")"
   ]
  },
  {
   "cell_type": "code",
   "execution_count": 136,
   "metadata": {
    "collapsed": true
   },
   "outputs": [],
   "source": [
    "def model(X, w):\n",
    "    return tf.add(tf.multiply(w[1], tf.pow(X, 1)),tf.multiply(w[0], tf.pow(X, 0)), name=\"y_predicted\")"
   ]
  },
  {
   "cell_type": "code",
   "execution_count": 137,
   "metadata": {
    "collapsed": true
   },
   "outputs": [],
   "source": [
    "y_model = model(X, w)\n",
    "cost = tf.reduce_sum(tf.abs(Y-y_model), name=\"cost\")"
   ]
  },
  {
   "cell_type": "code",
   "execution_count": 138,
   "metadata": {
    "collapsed": false
   },
   "outputs": [],
   "source": [
    "train_op = tf.train.GradientDescentOptimizer(learning_rate).minimize(cost)\n",
    "correct_pred = tf.equal(Y, tf.to_float(tf.greater(y_model, 0.5)))\n",
    "accuracy = tf.reduce_mean(tf.to_float(correct_pred))"
   ]
  },
  {
   "cell_type": "code",
   "execution_count": 139,
   "metadata": {
    "collapsed": false
   },
   "outputs": [],
   "source": [
    "cur_acc = tf.summary.scalar(\"current_average\", accuracy)\n",
    "#cur_cost = tf.summary.scalar(\"current_cost\", cost)\n",
    "merged = tf.summary.merge_all()"
   ]
  },
  {
   "cell_type": "code",
   "execution_count": 140,
   "metadata": {
    "collapsed": true
   },
   "outputs": [],
   "source": [
    "sess = tf.Session()\n",
    "init = tf.global_variables_initializer()\n",
    "sess.run(init)"
   ]
  },
  {
   "cell_type": "code",
   "execution_count": 141,
   "metadata": {
    "collapsed": true
   },
   "outputs": [],
   "source": [
    "write = tf.summary.FileWriter(\"./logs\", sess.graph)"
   ]
  },
  {
   "cell_type": "code",
   "execution_count": 142,
   "metadata": {
    "collapsed": false
   },
   "outputs": [
    {
     "name": "stdout",
     "output_type": "stream",
     "text": [
      "2.41438\n",
      "2.26873\n",
      "2.12262\n",
      "1.99716\n",
      "1.9818\n",
      "1.98172\n",
      "1.98164\n",
      "1.98158\n",
      "1.9815\n"
     ]
    }
   ],
   "source": [
    "for epoch in range(1,training_epochs):\n",
    "    sess.run([train_op], feed_dict={X: xs, Y: labels})\n",
    "    curr_cost, summ = sess.run([cost, merged], feed_dict={X: xs, Y: labels})    \n",
    "    write.add_summary(summ, epoch)\n",
    "    if epoch % 100 == 0:\n",
    "    #w_val = sess.run(w)\n",
    "    #all_xs = np.linspace(0, 10, 100)\n",
    "    #ax = plt.subplot(8,8,epoch)\n",
    "    #ax.plot(all_xs, all_xs*w_val[1] + w_val[0])\n",
    "    #ax.scatter(xs, labels)\n",
    "        print(curr_cost)"
   ]
  },
  {
   "cell_type": "code",
   "execution_count": 143,
   "metadata": {
    "collapsed": false
   },
   "outputs": [
    {
     "name": "stdout",
     "output_type": "stream",
     "text": [
      "learned parameters [-0.11310023  0.10657237]\n",
      "accuracy 1.0\n"
     ]
    }
   ],
   "source": [
    "w_val = sess.run(w)\n",
    "print('learned parameters', w_val)\n",
    "\n",
    "print('accuracy', sess.run(accuracy, feed_dict={X: xs, Y: labels}))\n"
   ]
  },
  {
   "cell_type": "code",
   "execution_count": 144,
   "metadata": {
    "collapsed": false
   },
   "outputs": [
    {
     "data": {
      "image/png": "[encoded data removed]",
      "text/plain": [
       "<matplotlib.figure.Figure at 0x1c596df2e48>"
      ]
     },
     "metadata": {},
     "output_type": "display_data"
    }
   ],
   "source": [
    "all_xs = np.linspace(0, 10, 100)\n",
    "plt.plot(all_xs, all_xs*w_val[1] + w_val[0])\n",
    "plt.scatter(xs, labels)\n",
    "plt.show()"
   ]
  },
  {
   "cell_type": "code",
   "execution_count": null,
   "metadata": {
    "collapsed": true
   },
   "outputs": [],
   "source": []
  }
 ],
 "metadata": {
  "anaconda-cloud": {},
  "kernelspec": {
   "display_name": "Python [conda env:python 3]",
   "language": "python",
   "name": "conda-env-python 3-py"
  },
  "language_info": {
   "codemirror_mode": {
    "name": "ipython",
    "version": 3
   },
   "file_extension": ".py",
   "mimetype": "text/x-python",
   "name": "python",
   "nbconvert_exporter": "python",
   "pygments_lexer": "ipython3",
   "version": "3.5.2"
  }
 },
 "nbformat": 4,
 "nbformat_minor": 1
}
