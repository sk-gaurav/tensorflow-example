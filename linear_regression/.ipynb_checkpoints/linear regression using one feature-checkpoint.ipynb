{
 "cells": [
  {
   "cell_type": "code",
   "execution_count": 1,
   "metadata": {
    "collapsed": true,
    "focus": false,
    "id": "df5b5eff-a2ca-484d-880c-4fcab1f098bf"
   },
   "outputs": [],
   "source": [
    "%matplotlib inline"
   ]
  },
  {
   "cell_type": "code",
   "execution_count": 2,
   "metadata": {
    "collapsed": true,
    "focus": false,
    "id": "f276165c-cfb0-43cd-a248-c1a61fd90235"
   },
   "outputs": [],
   "source": [
    "import tensorflow as tf\n",
    "import numpy as np\n",
    "import matplotlib.pyplot as plt"
   ]
  },
  {
   "cell_type": "code",
   "execution_count": 3,
   "metadata": {
    "collapsed": true,
    "focus": false,
    "id": "7dd66cf1-7035-44f8-8ac9-4d11a41c8d80"
   },
   "outputs": [],
   "source": [
    "learning_rate = 0.01\n",
    "traininig_epochs = 100"
   ]
  },
  {
   "cell_type": "code",
   "execution_count": 4,
   "metadata": {
    "focus": false,
    "id": "90755596-c21e-4525-83a6-d5c5af033272"
   },
   "outputs": [],
   "source": [
    "x_train = np.linspace(-1, 1, 101)"
   ]
  },
  {
   "cell_type": "code",
   "execution_count": 5,
   "metadata": {
    "focus": false,
    "id": "0de96dba-6fc6-49e0-9fdb-f436961d0ddd"
   },
   "outputs": [],
   "source": [
    "y_train = 2 * x_train + np.random.randn(x_train.shape[0]) * 0.33"
   ]
  },
  {
   "cell_type": "code",
   "execution_count": 6,
   "metadata": {
    "focus": false,
    "id": "41bdf8c2-d316-4e99-b87a-0911343af012"
   },
   "outputs": [
    {
     "data": {
      "text/plain": [
       "<matplotlib.collections.PathCollection at 0x1ab029ea668>"
      ]
     },
     "execution_count": 6,
     "metadata": {},
     "output_type": "execute_result"
    },
    {
     "data": {
      "image/png": "[encoded data removed]",
      "text/plain": [
       "<matplotlib.figure.Figure at 0x1ab027041d0>"
      ]
     },
     "metadata": {},
     "output_type": "display_data"
    }
   ],
   "source": [
    "plt.scatter(x_train, y_train)"
   ]
  },
  {
   "cell_type": "code",
   "execution_count": 7,
   "metadata": {
    "collapsed": true,
    "focus": false,
    "id": "8bd5494b-9a42-4f60-8b3b-16043b1d94e1"
   },
   "outputs": [],
   "source": [
    "X = tf.placeholder(\"float\")\n",
    "Y = tf.placeholder(\"float\")"
   ]
  },
  {
   "cell_type": "code",
   "execution_count": 8,
   "metadata": {
    "collapsed": true,
    "focus": false,
    "id": "f88201c6-db49-4550-8447-33d738f07e79"
   },
   "outputs": [],
   "source": [
    "def model(X, w, b):\n",
    "    return tf.add(tf.multiply(X, w), b, name = \"model\")"
   ]
  },
  {
   "cell_type": "code",
   "execution_count": 9,
   "metadata": {
    "collapsed": true,
    "focus": false,
    "id": "97c94232-2061-44ae-a7ab-ed09b1c57195"
   },
   "outputs": [],
   "source": [
    "w = tf.Variable(0.0, name = \"weights\")\n",
    "b = tf.Variable(0.0, name = \"bias\")"
   ]
  },
  {
   "cell_type": "code",
   "execution_count": 10,
   "metadata": {
    "focus": false,
    "id": "826e4520-673b-49c5-8186-05fa40171c3b"
   },
   "outputs": [],
   "source": [
    "y_model = model(X, w, b)\n",
    "cost = tf.reduce_mean(tf.square(Y-y_model))"
   ]
  },
  {
   "cell_type": "code",
   "execution_count": 11,
   "metadata": {
    "collapsed": true,
    "focus": false,
    "id": "2c0cf10c-10a4-4e7a-a1ae-7af73cad891a"
   },
   "outputs": [],
   "source": [
    "train_op = tf.train.GradientDescentOptimizer(learning_rate)"
   ]
  },
  {
   "cell_type": "code",
   "execution_count": 12,
   "metadata": {
    "collapsed": true,
    "focus": false,
    "id": "4f485a0c-d648-4a7b-a13a-51822229ca54"
   },
   "outputs": [],
   "source": [
    "optimize = train_op.minimize(cost)"
   ]
  },
  {
   "cell_type": "code",
   "execution_count": 13,
   "metadata": {
    "collapsed": true,
    "focus": false,
    "id": "94808676-cbfb-405c-8be7-9c8fad6a44e3"
   },
   "outputs": [],
   "source": [
    "sess = tf.Session()\n",
    "init = tf.global_variables_initializer()\n",
    "sess.run(init)"
   ]
  },
  {
   "cell_type": "code",
   "execution_count": 14,
   "metadata": {
    "focus": false,
    "id": "2bd4910a-1315-45cc-96f2-a42d5ebb6926"
   },
   "outputs": [],
   "source": [
    "for epoch in range(traininig_epochs):\n",
    "    for (x, y) in zip(x_train, y_train):\n",
    "        sess.run(optimize, feed_dict={X:x_train, Y:y_train})"
   ]
  },
  {
   "cell_type": "code",
   "execution_count": 15,
   "metadata": {
    "collapsed": true,
    "focus": false,
    "id": "a30bffa0-eaea-4be9-8597-06452c723fef"
   },
   "outputs": [],
   "source": [
    "val = sess.run([w, b])"
   ]
  },
  {
   "cell_type": "code",
   "execution_count": 16,
   "metadata": {
    "focus": false,
    "id": "2e843814-6dbf-4e46-b728-c059f8cbc263"
   },
   "outputs": [
    {
     "data": {
      "text/plain": [
       "[2.0313861, 0.010998548]"
      ]
     },
     "execution_count": 16,
     "metadata": {},
     "output_type": "execute_result"
    }
   ],
   "source": [
    "val"
   ]
  },
  {
   "cell_type": "code",
   "execution_count": 17,
   "metadata": {
    "collapsed": true,
    "focus": false,
    "id": "1a0b1cea-a869-494c-8714-f8dd2d4faee9"
   },
   "outputs": [],
   "source": [
    "summary = tf.summary.FileWriter(\"./logs\", sess.graph)"
   ]
  },
  {
   "cell_type": "code",
   "execution_count": 18,
   "metadata": {
    "focus": false,
    "id": "a79e7a78-1012-4931-90b5-241f04fb15bd"
   },
   "outputs": [
    {
     "data": {
      "image/png": "[encoded data removed]",
      "text/plain": [
       "<matplotlib.figure.Figure at 0x1ab02b03470>"
      ]
     },
     "metadata": {},
     "output_type": "display_data"
    }
   ],
   "source": [
    "plt.scatter(x_train, y_train)\n",
    "y_learned = x_train * val[0] + val[1]\n",
    "plt.plot(x_train, y_learned, 'r')\n",
    "plt.show()"
   ]
  }
 ],
 "metadata": {
  "anaconda-cloud": {},
  "kernelspec": {
   "display_name": "Python 3",
   "language": "python",
   "name": "python3"
  },
  "language_info": {
   "codemirror_mode": {
    "name": "ipython",
    "version": 3
   },
   "file_extension": ".py",
   "mimetype": "text/x-python",
   "name": "python",
   "nbconvert_exporter": "python",
   "pygments_lexer": "ipython3",
   "version": "3.6.1"
  }
 },
 "nbformat": 4,
 "nbformat_minor": 1
}
